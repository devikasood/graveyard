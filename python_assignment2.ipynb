{
  "nbformat": 4,
  "nbformat_minor": 0,
  "metadata": {
    "colab": {
      "provenance": [],
      "authorship_tag": "ABX9TyNZSULn6akPMXDJz6OnqH/4",
      "include_colab_link": true
    },
    "kernelspec": {
      "name": "python3",
      "display_name": "Python 3"
    },
    "language_info": {
      "name": "python"
    }
  },
  "cells": [
    {
      "cell_type": "markdown",
      "metadata": {
        "id": "view-in-github",
        "colab_type": "text"
      },
      "source": [
        "<a href=\"https://colab.research.google.com/github/devikasood/graveyard/blob/main/python_assignment2.ipynb\" target=\"_parent\"><img src=\"https://colab.research.google.com/assets/colab-badge.svg\" alt=\"Open In Colab\"/></a>"
      ]
    },
    {
      "cell_type": "markdown",
      "source": [
        "Q1. Split this string\n",
        "s = \"Hi there Class!\"\n",
        "into a list."
      ],
      "metadata": {
        "id": "51BOiw6Fg6fL"
      }
    },
    {
      "cell_type": "code",
      "source": [
        "s = \"Hi there Class!\"\n",
        "l = s.split()\n",
        "print(l)"
      ],
      "metadata": {
        "colab": {
          "base_uri": "https://localhost:8080/"
        },
        "id": "WWKdSoM-g04F",
        "outputId": "11fa8853-471f-4144-d73f-a1b264e3bd16"
      },
      "execution_count": null,
      "outputs": [
        {
          "output_type": "stream",
          "name": "stdout",
          "text": [
            "['Hi', 'there', 'Class!']\n"
          ]
        }
      ]
    },
    {
      "cell_type": "markdown",
      "source": [
        "Q2. Given the variables\n",
        "planet = \"Earth\"\n",
        "diameter = 12742\n",
        "Use .format() to print the following string:\n",
        "The diameter of Earth is 12742 kilometers."
      ],
      "metadata": {
        "id": "uLuIZWbxhWvb"
      }
    },
    {
      "cell_type": "code",
      "source": [
        "planet = \"Earth\"\n",
        "diameter = 12742\n",
        "print(f\"the diameter of {planet} is {diameter}\")"
      ],
      "metadata": {
        "colab": {
          "base_uri": "https://localhost:8080/"
        },
        "id": "ytKmW1xChA5m",
        "outputId": "5061fa48-eaae-451c-f121-37dac4147ff5"
      },
      "execution_count": null,
      "outputs": [
        {
          "output_type": "stream",
          "name": "stdout",
          "text": [
            "the diameter of Earth is 12742\n"
          ]
        }
      ]
    },
    {
      "cell_type": "markdown",
      "source": [
        "Q3. Given this nested list, use indexing to grab the word \"hello\"\n",
        "lst = [1,2,[3,4],[5,[100,200,['hello']],23,11],1,7]"
      ],
      "metadata": {
        "id": "v-RrwHLJhokS"
      }
    },
    {
      "cell_type": "code",
      "source": [
        "lst = [1,2,[3,4],[5,[100,200,['hello']],23,11],1,7]\n",
        "print(lst[3][1][2][0])\n"
      ],
      "metadata": {
        "colab": {
          "base_uri": "https://localhost:8080/"
        },
        "id": "axjLbvyIhqmx",
        "outputId": "cdac1a70-b451-4c62-d46f-494a055b7f08"
      },
      "execution_count": null,
      "outputs": [
        {
          "output_type": "stream",
          "name": "stdout",
          "text": [
            "hello\n"
          ]
        }
      ]
    },
    {
      "cell_type": "markdown",
      "source": [
        "Q4. Given this nested dictionary grab the word \"hello\".\n",
        "d = {'k1':[1,2,3,{'tricky':['oh','man','inception',{'target':[1,2,3,'hello']}]}]}"
      ],
      "metadata": {
        "id": "yhDiRL9_rdCN"
      }
    },
    {
      "cell_type": "code",
      "source": [
        "d={'k1':[1,2,3,{'tricky':['oh','man','inception',{'target':[1,2,3,'hello']}]}]}\n",
        "print(d['k1'][3]['tricky'][3]['target'][3])"
      ],
      "metadata": {
        "colab": {
          "base_uri": "https://localhost:8080/"
        },
        "id": "cG7j9ULNreC0",
        "outputId": "30b2a0d9-0ae5-4c56-bb81-6b8bebb44e44"
      },
      "execution_count": null,
      "outputs": [
        {
          "output_type": "stream",
          "name": "stdout",
          "text": [
            "hello\n"
          ]
        }
      ]
    },
    {
      "cell_type": "markdown",
      "source": [
        "Q5. Create a function that grabs the email website domain from a string in the form:\n",
        "user@domain.com"
      ],
      "metadata": {
        "id": "ya59yBR-rgnW"
      }
    },
    {
      "cell_type": "code",
      "source": [
        "def websiteDomain(string):\n",
        "  string_list = string.split('@')\n",
        "  domain = string_list[1]\n",
        "  print(f\"the domain is {domain}\")\n",
        "\n",
        "\n",
        "\n",
        "string = input()\n",
        "websiteDomain(string)\n",
        "\n",
        "\n",
        "\n"
      ],
      "metadata": {
        "colab": {
          "base_uri": "https://localhost:8080/"
        },
        "id": "bawun0mTrhpx",
        "outputId": "4fdbdeb9-280a-4b90-9037-94e0c090ca2d"
      },
      "execution_count": null,
      "outputs": [
        {
          "output_type": "stream",
          "name": "stdout",
          "text": [
            "devikasood.bt22cseds@pec.edu.in\n",
            "the domain is pec.edu.in\n"
          ]
        }
      ]
    },
    {
      "cell_type": "markdown",
      "source": [
        "Q6. Create a basic function that returns True if the word 'dog' is contained in the input string."
      ],
      "metadata": {
        "id": "2so4WORHghv4"
      }
    },
    {
      "cell_type": "code",
      "execution_count": null,
      "metadata": {
        "colab": {
          "base_uri": "https://localhost:8080/"
        },
        "id": "Myr2d0bzFr6m",
        "outputId": "4a87041f-8ffc-4476-ed00-4d53c6213785"
      },
      "outputs": [
        {
          "output_type": "stream",
          "name": "stdout",
          "text": [
            "hi dog my dog\n",
            "True\n"
          ]
        }
      ],
      "source": [
        "def sen(sentence):\n",
        "    sentence2 = sentence.split()\n",
        "    for i in sentence2:\n",
        "        if i == \"dog\":\n",
        "            print(\"True\")\n",
        "            break\n",
        "\n",
        "sentence = input()\n",
        "sen(sentence)"
      ]
    },
    {
      "cell_type": "markdown",
      "source": [
        "Q7. Create a function that counts the number of times the word \"dog\" occurs in a string."
      ],
      "metadata": {
        "id": "DisexSWzgvkw"
      }
    },
    {
      "cell_type": "code",
      "source": [
        "def count(sentence):\n",
        "  c = 0\n",
        "  sen = sentence.split()\n",
        "  for i in sen:\n",
        "    if i == \"dog\":\n",
        "      c += 1\n",
        "\n",
        "  print(c)\n",
        "\n",
        "sentence = input()\n",
        "count(sentence)\n"
      ],
      "metadata": {
        "colab": {
          "base_uri": "https://localhost:8080/"
        },
        "id": "M7dWlv7xGCpF",
        "outputId": "769f6864-190a-47c7-ed37-5de308bc6a3d"
      },
      "execution_count": null,
      "outputs": [
        {
          "output_type": "stream",
          "name": "stdout",
          "text": [
            "hello dog what is up dog\n",
            "2\n"
          ]
        }
      ]
    },
    {
      "cell_type": "markdown",
      "source": [
        "Q8. Use lambda expressions and the filter() function to filter out words from a list that don't start with the\n",
        "letter 's'.\n",
        "For example: seq = ['soup','dog','salad','cat','great']"
      ],
      "metadata": {
        "id": "bYF__ZPCtVEC"
      }
    },
    {
      "cell_type": "code",
      "source": [
        "seq = ['soup', 'dog', 'salad', 'cat', 'great']\n",
        "\n",
        "filtered_words = filter(lambda word: word.startswith('s'), seq)\n",
        "\n",
        "filtered_list = list(filtered_words)\n",
        "\n",
        "print(filtered_list)\n"
      ],
      "metadata": {
        "colab": {
          "base_uri": "https://localhost:8080/"
        },
        "id": "65N29P4BtY1E",
        "outputId": "70ae8863-6bd0-4993-cceb-003fb17af526"
      },
      "execution_count": null,
      "outputs": [
        {
          "output_type": "stream",
          "name": "stdout",
          "text": [
            "['soup', 'salad']\n"
          ]
        }
      ]
    },
    {
      "cell_type": "markdown",
      "source": [
        "Q9. You are driving a little too fast, and a police officer stops you. Write a function to return one of 3 pos\n",
        "sible results: \"No Challan\", \"Small Challan\", or \"Heavy Challan\". If your speed is 60 or less, the result is\n",
        "\"No Challan\". If speed is between 61 and 80 inclusive, the result is \"Small Challan\". If speed is 81 or mor\n",
        "e, the result is \"Heavy Challan\". Unless it is your birthday (encoded as a Boolean value in the parameters\n",
        "of the function) -- on your birthday, your speed can be 5 higher in all cases.\n",
        "caught_speeding(81,True)\n",
        "caught_speeding(81,False)"
      ],
      "metadata": {
        "id": "sYzd6SEZiPZY"
      }
    },
    {
      "cell_type": "code",
      "source": [
        "def challan(speed,birthday):\n",
        "  if birthday == True:\n",
        "    speed -= 5\n",
        "\n",
        "  if speed<=60:\n",
        "    print(\"no challan\")\n",
        "  elif 61<=speed<=80:\n",
        "    print(\"small challan\")\n",
        "  elif speed>=80:\n",
        "    print(\"heavy challan\")\n",
        "\n",
        "\n",
        "speed = int(input(\"enter speed: \"))\n",
        "birthday = input(\"enter True if it is your birthday, otherwise enter False: \")\n",
        "challan(speed,birthday)\n"
      ],
      "metadata": {
        "colab": {
          "base_uri": "https://localhost:8080/"
        },
        "id": "YxI5gaqoiRgg",
        "outputId": "7f538b06-0011-4f95-9c89-71055bb70e37"
      },
      "execution_count": null,
      "outputs": [
        {
          "output_type": "stream",
          "name": "stdout",
          "text": [
            "enter speed: 70\n",
            "enter True if it is your birthday, otherwise enter False: False\n",
            "small challan\n"
          ]
        }
      ]
    },
    {
      "cell_type": "markdown",
      "source": [
        "Q10. Concatenate two lists index-wise\n",
        "list1 = [\"M\", \"na\", \"i\", \"She\"]\n",
        "list2 = [\"y\", \"me\", \"s\", \"lly\"]\n",
        "Expected Outcome: ['My', 'name', 'is', 'Shelly']"
      ],
      "metadata": {
        "id": "vtEg7M6HmCTY"
      }
    },
    {
      "cell_type": "code",
      "source": [
        "list1 = [\"M\", \"na\", \"i\", \"She\"]\n",
        "list2 = [\"y\", \"me\", \"s\", \"lly\"]\n",
        "\n",
        "list_final = []\n",
        "for i in range(0,4):\n",
        "  list_final.append(list1[i]+list2[i])\n",
        "\n",
        "print(list_final)\n",
        "\n",
        "\n",
        "\n"
      ],
      "metadata": {
        "colab": {
          "base_uri": "https://localhost:8080/"
        },
        "id": "fEbTZ7jGjPkB",
        "outputId": "1edeb29d-70b8-4c90-99c0-7a786866caa8"
      },
      "execution_count": null,
      "outputs": [
        {
          "output_type": "stream",
          "name": "stdout",
          "text": [
            "['My', 'name', 'is', 'Shelly']\n"
          ]
        }
      ]
    },
    {
      "cell_type": "markdown",
      "source": [
        "Q11. Concatenate two lists in the following order\n",
        "list1 = [\"Hello \", \"take \"]\n",
        "list2 = [\"Dear\", \"Sir\"]\n",
        "Expected Output: ['Hello Dear', 'Hello Sir', 'take Dear', 'take Sir']"
      ],
      "metadata": {
        "id": "GMJHPawPocT-"
      }
    },
    {
      "cell_type": "code",
      "source": [
        "list1 = [\"Hello \", \"take \"]\n",
        "list2 = [\"Dear\", \"Sir\"]\n",
        "\n",
        "list_final = []\n",
        "for i in list1:\n",
        "  for j in list2:\n",
        "    list_final.append(i+j)\n",
        "\n",
        "print(list_final)"
      ],
      "metadata": {
        "colab": {
          "base_uri": "https://localhost:8080/"
        },
        "id": "Zf7Qpt0iodKG",
        "outputId": "a5275b49-0540-4ec9-96e5-adaec968057a"
      },
      "execution_count": null,
      "outputs": [
        {
          "output_type": "stream",
          "name": "stdout",
          "text": [
            "['Hello Dear', 'Hello Sir', 'take Dear', 'take Sir']\n"
          ]
        }
      ]
    },
    {
      "cell_type": "markdown",
      "source": [
        "Q12. Add item 7000 after 6000 in the following Python List\n",
        "list1 = [10, 20, [300, 400, [5000, 6000], 500], 30, 40]"
      ],
      "metadata": {
        "id": "AFUde7JVpRol"
      }
    },
    {
      "cell_type": "code",
      "source": [
        "list1 = [10, 20, [300, 400, [5000, 6000], 500], 30, 40]\n",
        "list1[2][2].append(7000)\n",
        "print(list1)"
      ],
      "metadata": {
        "colab": {
          "base_uri": "https://localhost:8080/"
        },
        "id": "Aswk5Ca2pVih",
        "outputId": "9504e188-d3c9-4f1b-a46d-292e78bb8cde"
      },
      "execution_count": null,
      "outputs": [
        {
          "output_type": "stream",
          "name": "stdout",
          "text": [
            "[10, 20, [300, 400, [5000, 6000, 7000], 500], 30, 40]\n"
          ]
        }
      ]
    },
    {
      "cell_type": "markdown",
      "source": [
        "Q13. Given a Python list, remove all occurrence of 20 from the list\n",
        "list1 = [5, 20, 15, 20, 25, 50, 20]"
      ],
      "metadata": {
        "id": "_cxI2Yk8qfx6"
      }
    },
    {
      "cell_type": "code",
      "source": [
        "list1 = [5, 20, 15, 20, 25, 50, 20]\n",
        "for i in list1:\n",
        "  if i == 20:\n",
        "    list1.remove(i)\n",
        "\n",
        "print(list1)"
      ],
      "metadata": {
        "colab": {
          "base_uri": "https://localhost:8080/"
        },
        "id": "GpgpG0MNqiT5",
        "outputId": "84bdb83e-7ffb-44a7-e475-025968ab61c9"
      },
      "execution_count": null,
      "outputs": [
        {
          "output_type": "stream",
          "name": "stdout",
          "text": [
            "[5, 15, 25, 50]\n"
          ]
        }
      ]
    },
    {
      "cell_type": "markdown",
      "source": [
        "Q14. Check if a value 200 exists in a dictionary\n",
        "d1 = {'a': 100, 'b': 200, 'c': 300}"
      ],
      "metadata": {
        "id": "h78LAYdNq5Mw"
      }
    },
    {
      "cell_type": "code",
      "source": [
        "d1={'a': 100, 'b': 200, 'c': 300}\n",
        "for i in d1:\n",
        "    if(d1[i]==200):\n",
        "        print(\"Yes\")\n",
        "\n"
      ],
      "metadata": {
        "colab": {
          "base_uri": "https://localhost:8080/"
        },
        "id": "iY6F7nK1q7qR",
        "outputId": "eca09d90-8ddb-4fdc-9365-f44777262d0f"
      },
      "execution_count": null,
      "outputs": [
        {
          "output_type": "stream",
          "name": "stdout",
          "text": [
            "Yes\n"
          ]
        }
      ]
    },
    {
      "cell_type": "markdown",
      "source": [
        "Q15. Find the sum of the series 2 +22 + 222 + 2222 + .. n terms\n"
      ],
      "metadata": {
        "id": "7stZEuWgrBrL"
      }
    },
    {
      "cell_type": "code",
      "source": [
        "def sum_of_series(n):\n",
        "    total = 0\n",
        "    term = 2\n",
        "    for i in range(n):\n",
        "        total += term\n",
        "        term = term * 10 + 2\n",
        "    return total\n",
        "\n",
        "\n",
        "n = int(input(\"Enter the number of terms in the series: \"))\n",
        "result = sum_of_series(n)\n",
        "print(f\"The sum of the series up to {n} terms is: {result}\")\n"
      ],
      "metadata": {
        "colab": {
          "base_uri": "https://localhost:8080/"
        },
        "id": "YGGNyA1VrCva",
        "outputId": "82c17e3d-179c-4294-c0d8-27cf04de284a"
      },
      "execution_count": null,
      "outputs": [
        {
          "output_type": "stream",
          "name": "stdout",
          "text": [
            "Enter the number of terms in the series: 3\n",
            "The sum of the series up to 3 terms is: 246\n"
          ]
        }
      ]
    }
  ]
}